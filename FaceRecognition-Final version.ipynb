{
 "cells": [
  {
   "cell_type": "code",
   "execution_count": 1,
   "id": "7f19c50d",
   "metadata": {},
   "outputs": [
    {
     "name": "stdout",
     "output_type": "stream",
     "text": [
      "Requirement already satisfied: opencv-python in c:\\users\\vickr\\anaconda3\\lib\\site-packages (4.8.0.76)\n",
      "Requirement already satisfied: numpy>=1.17.3 in c:\\users\\vickr\\anaconda3\\lib\\site-packages (from opencv-python) (1.23.5)\n",
      "Note: you may need to restart the kernel to use updated packages.\n"
     ]
    }
   ],
   "source": [
    "pip install opencv-python"
   ]
  },
  {
   "cell_type": "code",
   "execution_count": 2,
   "id": "f7d7131f",
   "metadata": {},
   "outputs": [
    {
     "name": "stdout",
     "output_type": "stream",
     "text": [
      "Collecting face_recognition\n",
      "  Using cached face_recognition-1.3.0-py2.py3-none-any.whl (15 kB)\n",
      "Collecting face-recognition-models>=0.3.0\n",
      "  Using cached face_recognition_models-0.3.0.tar.gz (100.1 MB)\n",
      "  Preparing metadata (setup.py): started\n",
      "  Preparing metadata (setup.py): finished with status 'done'\n",
      "Collecting dlib>=19.7\n",
      "  Using cached dlib-19.24.2.tar.gz (11.8 MB)\n",
      "  Installing build dependencies: started\n",
      "  Installing build dependencies: finished with status 'done'\n",
      "  Getting requirements to build wheel: started\n",
      "  Getting requirements to build wheel: finished with status 'done'\n",
      "  Preparing metadata (pyproject.toml): started\n",
      "  Preparing metadata (pyproject.toml): finished with status 'done'\n",
      "Requirement already satisfied: Click>=6.0 in c:\\users\\vickr\\anaconda3\\lib\\site-packages (from face_recognition) (8.0.4)\n",
      "Requirement already satisfied: Pillow in c:\\users\\vickr\\anaconda3\\lib\\site-packages (from face_recognition) (9.4.0)\n",
      "Requirement already satisfied: numpy in c:\\users\\vickr\\anaconda3\\lib\\site-packages (from face_recognition) (1.23.5)\n",
      "Requirement already satisfied: colorama in c:\\users\\vickr\\anaconda3\\lib\\site-packages (from Click>=6.0->face_recognition) (0.4.6)\n",
      "Building wheels for collected packages: dlib, face-recognition-models\n",
      "  Building wheel for dlib (pyproject.toml): started\n",
      "  Building wheel for dlib (pyproject.toml): still running...\n",
      "  Building wheel for dlib (pyproject.toml): still running...\n",
      "  Building wheel for dlib (pyproject.toml): still running...\n",
      "  Building wheel for dlib (pyproject.toml): still running...\n",
      "  Building wheel for dlib (pyproject.toml): finished with status 'done'\n",
      "  Created wheel for dlib: filename=dlib-19.24.2-cp310-cp310-win_amd64.whl size=2846193 sha256=76681943672acf17690d3701a08b701ad1ca054ba63667dea89d8d3287167cc7\n",
      "  Stored in directory: c:\\users\\vickr\\appdata\\local\\pip\\cache\\wheels\\bc\\19\\6e\\7461e0584c10c486b31b7d204a591d5e35812c13901ae93c24\n",
      "  Building wheel for face-recognition-models (setup.py): started\n",
      "  Building wheel for face-recognition-models (setup.py): finished with status 'done'\n",
      "  Created wheel for face-recognition-models: filename=face_recognition_models-0.3.0-py2.py3-none-any.whl size=100566184 sha256=6ba691518dc77bba0bc92aeb2c0e88189cc1d0bc82947c4f869d1cfcfd4c8f27\n",
      "  Stored in directory: c:\\users\\vickr\\appdata\\local\\pip\\cache\\wheels\\3a\\81\\70\\bb23245d63de9e0f53fc67dc6f30d871d443521aa026808210\n",
      "Successfully built dlib face-recognition-models\n",
      "Installing collected packages: face-recognition-models, dlib, face_recognition\n",
      "Successfully installed dlib-19.24.2 face-recognition-models-0.3.0 face_recognition-1.3.0\n",
      "Note: you may need to restart the kernel to use updated packages.\n"
     ]
    }
   ],
   "source": [
    "pip install face_recognition"
   ]
  },
  {
   "cell_type": "code",
   "execution_count": 11,
   "id": "f9285c6e",
   "metadata": {},
   "outputs": [],
   "source": [
    "import face_recognition\n",
    "import cv2\n",
    "import os\n",
    "import glob\n",
    "import numpy as np\n",
    "\n",
    "class SimpleFacerec:\n",
    "    def __init__(self):\n",
    "        self.known_face_encodings = []\n",
    "        self.known_face_names = []\n",
    "        self.frame_resizing = 0.25\n",
    "\n",
    "    def load_encoding_images(self, images_path):\n",
    "        images_path = glob.glob(os.path.join(images_path, \"*.*\"))\n",
    "        print(\"{} encoding images found.\".format(len(images_path)))\n",
    "\n",
    "        for img_path in images_path:\n",
    "            img = cv2.imread(img_path)\n",
    "            rgb_img = cv2.cvtColor(img, cv2.COLOR_BGR2RGB)\n",
    "            basename = os.path.basename(img_path)\n",
    "            (filename, ext) = os.path.splitext(basename)\n",
    "            img_encoding = face_recognition.face_encodings(rgb_img)[0]\n",
    "            self.known_face_encodings.append(img_encoding)\n",
    "            self.known_face_names.append(filename)\n",
    "        print(\"Encoding images loaded\")\n",
    "\n",
    "    def detect_known_faces(self, frame):\n",
    "        small_frame = cv2.resize(frame, (0, 0), fx=self.frame_resizing, fy=self.frame_resizing)\n",
    "        rgb_small_frame = cv2.cvtColor(small_frame, cv2.COLOR_BGR2RGB)\n",
    "        face_locations = face_recognition.face_locations(rgb_small_frame)\n",
    "        face_encodings = face_recognition.face_encodings(rgb_small_frame, face_locations)\n",
    "        face_names = []\n",
    "        for face_encoding in face_encodings:\n",
    "            matches = face_recognition.compare_faces(self.known_face_encodings, face_encoding)\n",
    "            name = \"Unknown\"\n",
    "            face_distances = face_recognition.face_distance(self.known_face_encodings, face_encoding)\n",
    "            best_match_index = np.argmin(face_distances)\n",
    "            if matches[best_match_index]:\n",
    "                name = self.known_face_names[best_match_index]\n",
    "            face_names.append(name)\n",
    "        face_locations = np.array(face_locations)\n",
    "        face_locations = face_locations / self.frame_resizing\n",
    "        return face_locations.astype(int), face_names\n"
   ]
  },
  {
   "cell_type": "code",
   "execution_count": null,
   "id": "e4089a4c",
   "metadata": {},
   "outputs": [
    {
     "name": "stdout",
     "output_type": "stream",
     "text": [
      "Result:  [True]\n"
     ]
    }
   ],
   "source": [
    "import cv2\n",
    "import face_recognition\n",
    "\n",
    "img = cv2.imread(r\"C:\\Users\\vickr\\PycharmProjects\\FaceRecognition\\Vicky.jpg\")\n",
    "rgb_img = cv2.cvtColor(img, cv2.COLOR_BGR2RGB)\n",
    "img_encoding = face_recognition.face_encodings(rgb_img)[0]\n",
    "\n",
    "img2 = cv2.imread(r\"C:\\Users\\vickr\\PycharmProjects\\FaceRecognition\\images\\Vickram.JPG\")\n",
    "rgb_img2 = cv2.cvtColor(img2, cv2.COLOR_BGR2RGB)\n",
    "img_encoding2 = face_recognition.face_encodings(rgb_img2)[0]\n",
    "\n",
    "result = face_recognition.compare_faces([img_encoding], img_encoding2)\n",
    "print(\"Result: \", result)\n",
    "\n",
    "cv2.imshow(\"Img\", img)\n",
    "cv2.imshow(\"Img 2\", img2)\n",
    "cv2.waitKey(0)"
   ]
  },
  {
   "cell_type": "code",
   "execution_count": 12,
   "id": "13d06c5b",
   "metadata": {},
   "outputs": [
    {
     "name": "stdout",
     "output_type": "stream",
     "text": [
      "5 encoding images found.\n",
      "Encoding images loaded\n"
     ]
    }
   ],
   "source": [
    "import cv2\n",
    "\n",
    "sfr = SimpleFacerec()\n",
    "sfr.load_encoding_images(r\"C:\\Users\\vickr\\PycharmProjects\\FaceRecognition\\images\")\n",
    "\n",
    "cap = cv2.VideoCapture(0)  \n",
    "\n",
    "while True:\n",
    "    ret, frame = cap.read()\n",
    "    \n",
    "    if not ret:\n",
    "        break\n",
    "    \n",
    "    face_locations, face_names = sfr.detect_known_faces(frame)\n",
    "    for face_loc, name in zip(face_locations, face_names):\n",
    "        y1, x2, y2, x1 = face_loc[0], face_loc[1], face_loc[2], face_loc[3]\n",
    "        cv2.putText(frame, name,(x1, y1 - 10), cv2.FONT_HERSHEY_DUPLEX, 1, (0, 0, 200), 2)\n",
    "        cv2.rectangle(frame, (x1, y1), (x2, y2), (0, 0, 200), 4)\n",
    "    \n",
    "    if frame is not None and frame.shape[0] > 0 and frame.shape[1] > 0:\n",
    "        cv2.imshow(\"Frame\", frame)\n",
    "    \n",
    "    key = cv2.waitKey(1)\n",
    "    if key == 27:\n",
    "        break\n",
    "\n",
    "cap.release()\n",
    "cv2.destroyAllWindows()\n"
   ]
  },
  {
   "cell_type": "code",
   "execution_count": null,
   "id": "8e938501",
   "metadata": {},
   "outputs": [],
   "source": []
  }
 ],
 "metadata": {
  "kernelspec": {
   "display_name": "Python 3 (ipykernel)",
   "language": "python",
   "name": "python3"
  },
  "language_info": {
   "codemirror_mode": {
    "name": "ipython",
    "version": 3
   },
   "file_extension": ".py",
   "mimetype": "text/x-python",
   "name": "python",
   "nbconvert_exporter": "python",
   "pygments_lexer": "ipython3",
   "version": "3.10.9"
  }
 },
 "nbformat": 4,
 "nbformat_minor": 5
}
